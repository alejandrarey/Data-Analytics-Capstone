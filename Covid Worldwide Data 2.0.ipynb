{
 "cells": [
  {
   "cell_type": "markdown",
   "id": "3834b127",
   "metadata": {},
   "source": [
    "# COVID WORLDWIDE DATA"
   ]
  },
  {
   "cell_type": "code",
   "execution_count": 47,
   "id": "1a6fe4f0",
   "metadata": {},
   "outputs": [
    {
     "name": "stderr",
     "output_type": "stream",
     "text": [
      "UsageError: Line magic function `%` not found.\n"
     ]
    }
   ],
   "source": [
    "import numpy as np\n",
    "import pandas as pd\n",
    "% matplotlib inline"
   ]
  },
  {
   "cell_type": "code",
   "execution_count": 48,
   "id": "3c459465",
   "metadata": {},
   "outputs": [],
   "source": [
    "df = pd.read_csv('Covid19 WW.csv')"
   ]
  },
  {
   "cell_type": "markdown",
   "id": "37de3d4f",
   "metadata": {},
   "source": [
    "### Data Description"
   ]
  },
  {
   "cell_type": "code",
   "execution_count": 4,
   "id": "2fccce42",
   "metadata": {},
   "outputs": [
    {
     "data": {
      "text/plain": [
       "(214581, 4)"
      ]
     },
     "execution_count": 4,
     "metadata": {},
     "output_type": "execute_result"
    }
   ],
   "source": [
    "df.shape"
   ]
  },
  {
   "cell_type": "code",
   "execution_count": 5,
   "id": "82cd49ae",
   "metadata": {},
   "outputs": [
    {
     "name": "stdout",
     "output_type": "stream",
     "text": [
      "<class 'pandas.core.frame.DataFrame'>\n",
      "RangeIndex: 214581 entries, 0 to 214580\n",
      "Data columns (total 4 columns):\n",
      " #   Column          Non-Null Count   Dtype \n",
      "---  ------          --------------   ----- \n",
      " 0   Country         214581 non-null  object\n",
      " 1   date            214581 non-null  object\n",
      " 2   Acum Confirmed  214581 non-null  int64 \n",
      " 3   Cases p/day     214581 non-null  int64 \n",
      "dtypes: int64(2), object(2)\n",
      "memory usage: 6.5+ MB\n"
     ]
    }
   ],
   "source": [
    "df.info()"
   ]
  },
  {
   "cell_type": "code",
   "execution_count": 6,
   "id": "4ef1f05d",
   "metadata": {},
   "outputs": [
    {
     "data": {
      "text/html": [
       "<div>\n",
       "<style scoped>\n",
       "    .dataframe tbody tr th:only-of-type {\n",
       "        vertical-align: middle;\n",
       "    }\n",
       "\n",
       "    .dataframe tbody tr th {\n",
       "        vertical-align: top;\n",
       "    }\n",
       "\n",
       "    .dataframe thead th {\n",
       "        text-align: right;\n",
       "    }\n",
       "</style>\n",
       "<table border=\"1\" class=\"dataframe\">\n",
       "  <thead>\n",
       "    <tr style=\"text-align: right;\">\n",
       "      <th></th>\n",
       "      <th>Country</th>\n",
       "      <th>date</th>\n",
       "      <th>Acum Confirmed</th>\n",
       "      <th>Cases p/day</th>\n",
       "    </tr>\n",
       "  </thead>\n",
       "  <tbody>\n",
       "    <tr>\n",
       "      <th>0</th>\n",
       "      <td>Afghanistan</td>\n",
       "      <td>2/24/2020</td>\n",
       "      <td>5</td>\n",
       "      <td>5</td>\n",
       "    </tr>\n",
       "    <tr>\n",
       "      <th>1</th>\n",
       "      <td>Afghanistan</td>\n",
       "      <td>2/25/2020</td>\n",
       "      <td>5</td>\n",
       "      <td>0</td>\n",
       "    </tr>\n",
       "    <tr>\n",
       "      <th>2</th>\n",
       "      <td>Afghanistan</td>\n",
       "      <td>2/26/2020</td>\n",
       "      <td>5</td>\n",
       "      <td>0</td>\n",
       "    </tr>\n",
       "    <tr>\n",
       "      <th>3</th>\n",
       "      <td>Afghanistan</td>\n",
       "      <td>2/27/2020</td>\n",
       "      <td>5</td>\n",
       "      <td>0</td>\n",
       "    </tr>\n",
       "    <tr>\n",
       "      <th>4</th>\n",
       "      <td>Afghanistan</td>\n",
       "      <td>2/28/2020</td>\n",
       "      <td>5</td>\n",
       "      <td>0</td>\n",
       "    </tr>\n",
       "    <tr>\n",
       "      <th>...</th>\n",
       "      <td>...</td>\n",
       "      <td>...</td>\n",
       "      <td>...</td>\n",
       "      <td>...</td>\n",
       "    </tr>\n",
       "    <tr>\n",
       "      <th>95</th>\n",
       "      <td>Afghanistan</td>\n",
       "      <td>5/29/2020</td>\n",
       "      <td>13745</td>\n",
       "      <td>643</td>\n",
       "    </tr>\n",
       "    <tr>\n",
       "      <th>96</th>\n",
       "      <td>Afghanistan</td>\n",
       "      <td>5/30/2020</td>\n",
       "      <td>14529</td>\n",
       "      <td>784</td>\n",
       "    </tr>\n",
       "    <tr>\n",
       "      <th>97</th>\n",
       "      <td>Afghanistan</td>\n",
       "      <td>5/31/2020</td>\n",
       "      <td>15180</td>\n",
       "      <td>651</td>\n",
       "    </tr>\n",
       "    <tr>\n",
       "      <th>98</th>\n",
       "      <td>Afghanistan</td>\n",
       "      <td>6/1/2020</td>\n",
       "      <td>15836</td>\n",
       "      <td>656</td>\n",
       "    </tr>\n",
       "    <tr>\n",
       "      <th>99</th>\n",
       "      <td>Afghanistan</td>\n",
       "      <td>6/2/2020</td>\n",
       "      <td>16578</td>\n",
       "      <td>742</td>\n",
       "    </tr>\n",
       "  </tbody>\n",
       "</table>\n",
       "<p>100 rows × 4 columns</p>\n",
       "</div>"
      ],
      "text/plain": [
       "        Country       date  Acum Confirmed  Cases p/day\n",
       "0   Afghanistan  2/24/2020               5            5\n",
       "1   Afghanistan  2/25/2020               5            0\n",
       "2   Afghanistan  2/26/2020               5            0\n",
       "3   Afghanistan  2/27/2020               5            0\n",
       "4   Afghanistan  2/28/2020               5            0\n",
       "..          ...        ...             ...          ...\n",
       "95  Afghanistan  5/29/2020           13745          643\n",
       "96  Afghanistan  5/30/2020           14529          784\n",
       "97  Afghanistan  5/31/2020           15180          651\n",
       "98  Afghanistan   6/1/2020           15836          656\n",
       "99  Afghanistan   6/2/2020           16578          742\n",
       "\n",
       "[100 rows x 4 columns]"
      ]
     },
     "execution_count": 6,
     "metadata": {},
     "output_type": "execute_result"
    }
   ],
   "source": [
    "df.head(100)"
   ]
  },
  {
   "cell_type": "code",
   "execution_count": 7,
   "id": "5ed767e4",
   "metadata": {},
   "outputs": [
    {
     "data": {
      "text/html": [
       "<div>\n",
       "<style scoped>\n",
       "    .dataframe tbody tr th:only-of-type {\n",
       "        vertical-align: middle;\n",
       "    }\n",
       "\n",
       "    .dataframe tbody tr th {\n",
       "        vertical-align: top;\n",
       "    }\n",
       "\n",
       "    .dataframe thead th {\n",
       "        text-align: right;\n",
       "    }\n",
       "</style>\n",
       "<table border=\"1\" class=\"dataframe\">\n",
       "  <thead>\n",
       "    <tr style=\"text-align: right;\">\n",
       "      <th></th>\n",
       "      <th>Acum Confirmed</th>\n",
       "      <th>Cases p/day</th>\n",
       "    </tr>\n",
       "  </thead>\n",
       "  <tbody>\n",
       "    <tr>\n",
       "      <th>count</th>\n",
       "      <td>2.145810e+05</td>\n",
       "      <td>2.145810e+05</td>\n",
       "    </tr>\n",
       "    <tr>\n",
       "      <th>mean</th>\n",
       "      <td>1.101384e+06</td>\n",
       "      <td>2.968009e+03</td>\n",
       "    </tr>\n",
       "    <tr>\n",
       "      <th>std</th>\n",
       "      <td>5.047804e+06</td>\n",
       "      <td>1.836136e+04</td>\n",
       "    </tr>\n",
       "    <tr>\n",
       "      <th>min</th>\n",
       "      <td>0.000000e+00</td>\n",
       "      <td>-1.239662e+06</td>\n",
       "    </tr>\n",
       "    <tr>\n",
       "      <th>25%</th>\n",
       "      <td>4.243000e+03</td>\n",
       "      <td>0.000000e+00</td>\n",
       "    </tr>\n",
       "    <tr>\n",
       "      <th>50%</th>\n",
       "      <td>3.799500e+04</td>\n",
       "      <td>3.900000e+01</td>\n",
       "    </tr>\n",
       "    <tr>\n",
       "      <th>75%</th>\n",
       "      <td>3.470840e+05</td>\n",
       "      <td>6.180000e+02</td>\n",
       "    </tr>\n",
       "    <tr>\n",
       "      <th>max</th>\n",
       "      <td>9.804540e+07</td>\n",
       "      <td>1.433977e+06</td>\n",
       "    </tr>\n",
       "  </tbody>\n",
       "</table>\n",
       "</div>"
      ],
      "text/plain": [
       "       Acum Confirmed   Cases p/day\n",
       "count    2.145810e+05  2.145810e+05\n",
       "mean     1.101384e+06  2.968009e+03\n",
       "std      5.047804e+06  1.836136e+04\n",
       "min      0.000000e+00 -1.239662e+06\n",
       "25%      4.243000e+03  0.000000e+00\n",
       "50%      3.799500e+04  3.900000e+01\n",
       "75%      3.470840e+05  6.180000e+02\n",
       "max      9.804540e+07  1.433977e+06"
      ]
     },
     "execution_count": 7,
     "metadata": {},
     "output_type": "execute_result"
    }
   ],
   "source": [
    "df.describe()"
   ]
  },
  {
   "cell_type": "markdown",
   "id": "b22214ce",
   "metadata": {},
   "source": [
    "### Data Wrangling"
   ]
  },
  {
   "cell_type": "code",
   "execution_count": 8,
   "id": "a5a63028",
   "metadata": {},
   "outputs": [
    {
     "data": {
      "text/plain": [
       "'Zimbabwe'"
      ]
     },
     "execution_count": 8,
     "metadata": {},
     "output_type": "execute_result"
    }
   ],
   "source": [
    "df['Country'].max()"
   ]
  },
  {
   "cell_type": "code",
   "execution_count": 9,
   "id": "2ba3933b",
   "metadata": {},
   "outputs": [
    {
     "data": {
      "text/plain": [
       "1433977"
      ]
     },
     "execution_count": 9,
     "metadata": {},
     "output_type": "execute_result"
    }
   ],
   "source": [
    "df['Cases p/day'].max()"
   ]
  },
  {
   "cell_type": "code",
   "execution_count": 10,
   "id": "d0ec7e30",
   "metadata": {},
   "outputs": [
    {
     "data": {
      "text/plain": [
       "-1239662"
      ]
     },
     "execution_count": 10,
     "metadata": {},
     "output_type": "execute_result"
    }
   ],
   "source": [
    "df['Cases p/day'].min()"
   ]
  },
  {
   "cell_type": "code",
   "execution_count": 50,
   "id": "9d470692",
   "metadata": {},
   "outputs": [
    {
     "data": {
      "text/plain": [
       "<AxesSubplot:ylabel='Frequency'>"
      ]
     },
     "execution_count": 50,
     "metadata": {},
     "output_type": "execute_result"
    },
    {
     "data": {
      "image/png": "[encoded data removed]",
      "text/plain": [
       "<Figure size 640x480 with 1 Axes>"
      ]
     },
     "metadata": {},
     "output_type": "display_data"
    }
   ],
   "source": [
    "df['Cases p/day'].plot.hist(bins=10)"
   ]
  },
  {
   "cell_type": "code",
   "execution_count": 12,
   "id": "2e3a69fe",
   "metadata": {
    "scrolled": true
   },
   "outputs": [
    {
     "data": {
      "text/plain": [
       "<AxesSubplot:ylabel='Frequency'>"
      ]
     },
     "execution_count": 12,
     "metadata": {},
     "output_type": "execute_result"
    },
    {
     "data": {
      "image/png": "[encoded data removed]",
      "text/plain": [
       "<Figure size 640x480 with 1 Axes>"
      ]
     },
     "metadata": {},
     "output_type": "display_data"
    }
   ],
   "source": [
    "df['Cases p/day'].plot.hist()"
   ]
  },
  {
   "cell_type": "code",
   "execution_count": null,
   "id": "0e65f99f",
   "metadata": {},
   "outputs": [],
   "source": [
    "df['Cases p/day'].plot"
   ]
  },
  {
   "cell_type": "code",
   "execution_count": 15,
   "id": "8135e2a9",
   "metadata": {},
   "outputs": [
    {
     "data": {
      "text/plain": [
       "<AxesSubplot:>"
      ]
     },
     "execution_count": 15,
     "metadata": {},
     "output_type": "execute_result"
    },
    {
     "data": {
      "image/png": "[encoded data removed]",
      "text/plain": [
       "<Figure size 640x480 with 1 Axes>"
      ]
     },
     "metadata": {},
     "output_type": "display_data"
    }
   ],
   "source": [
    "df['Cases p/day'].plot()"
   ]
  },
  {
   "cell_type": "markdown",
   "id": "1fa6c096",
   "metadata": {},
   "source": [
    "### Statistical Analysis"
   ]
  },
  {
   "cell_type": "code",
   "execution_count": 23,
   "id": "8fd20316",
   "metadata": {},
   "outputs": [
    {
     "data": {
      "text/plain": [
       "636878312"
      ]
     },
     "execution_count": 23,
     "metadata": {},
     "output_type": "execute_result"
    }
   ],
   "source": [
    "df['Cases p/day'].sum(['Country']==('United States'))"
   ]
  },
  {
   "cell_type": "code",
   "execution_count": 25,
   "id": "0571f3f7",
   "metadata": {},
   "outputs": [
    {
     "data": {
      "text/plain": [
       "<AxesSubplot:>"
      ]
     },
     "execution_count": 25,
     "metadata": {},
     "output_type": "execute_result"
    },
    {
     "data": {
      "image/png": "[encoded data removed]",
      "text/plain": [
       "<Figure size 640x480 with 1 Axes>"
      ]
     },
     "metadata": {},
     "output_type": "display_data"
    }
   ],
   "source": [
    "df.plot()"
   ]
  },
  {
   "cell_type": "code",
   "execution_count": 36,
   "id": "2d1c1f57",
   "metadata": {},
   "outputs": [],
   "source": [
    "cc = df.groupby('Country')[['Cases p/day']]"
   ]
  },
  {
   "cell_type": "code",
   "execution_count": 37,
   "id": "302b3f34",
   "metadata": {},
   "outputs": [
    {
     "data": {
      "text/html": [
       "<div>\n",
       "<style scoped>\n",
       "    .dataframe tbody tr th:only-of-type {\n",
       "        vertical-align: middle;\n",
       "    }\n",
       "\n",
       "    .dataframe tbody tr th {\n",
       "        vertical-align: top;\n",
       "    }\n",
       "\n",
       "    .dataframe thead th {\n",
       "        text-align: right;\n",
       "    }\n",
       "</style>\n",
       "<table border=\"1\" class=\"dataframe\">\n",
       "  <thead>\n",
       "    <tr style=\"text-align: right;\">\n",
       "      <th></th>\n",
       "      <th>Cases p/day</th>\n",
       "    </tr>\n",
       "    <tr>\n",
       "      <th>Country</th>\n",
       "      <th></th>\n",
       "    </tr>\n",
       "  </thead>\n",
       "  <tbody>\n",
       "    <tr>\n",
       "      <th>Afghanistan</th>\n",
       "      <td>205146</td>\n",
       "    </tr>\n",
       "    <tr>\n",
       "      <th>Albania</th>\n",
       "      <td>333256</td>\n",
       "    </tr>\n",
       "    <tr>\n",
       "      <th>Algeria</th>\n",
       "      <td>270697</td>\n",
       "    </tr>\n",
       "    <tr>\n",
       "      <th>American Samoa</th>\n",
       "      <td>8262</td>\n",
       "    </tr>\n",
       "    <tr>\n",
       "      <th>Andorra</th>\n",
       "      <td>46824</td>\n",
       "    </tr>\n",
       "    <tr>\n",
       "      <th>...</th>\n",
       "      <td>...</td>\n",
       "    </tr>\n",
       "    <tr>\n",
       "      <th>Virgin Islands, U.S.</th>\n",
       "      <td>23445</td>\n",
       "    </tr>\n",
       "    <tr>\n",
       "      <th>Wallis and Futuna</th>\n",
       "      <td>3415</td>\n",
       "    </tr>\n",
       "    <tr>\n",
       "      <th>Yemen</th>\n",
       "      <td>11945</td>\n",
       "    </tr>\n",
       "    <tr>\n",
       "      <th>Zambia</th>\n",
       "      <td>333685</td>\n",
       "    </tr>\n",
       "    <tr>\n",
       "      <th>Zimbabwe</th>\n",
       "      <td>257893</td>\n",
       "    </tr>\n",
       "  </tbody>\n",
       "</table>\n",
       "<p>229 rows × 1 columns</p>\n",
       "</div>"
      ],
      "text/plain": [
       "                      Cases p/day\n",
       "Country                          \n",
       "Afghanistan                205146\n",
       "Albania                    333256\n",
       "Algeria                    270697\n",
       "American Samoa               8262\n",
       "Andorra                     46824\n",
       "...                           ...\n",
       "Virgin Islands, U.S.        23445\n",
       "Wallis and Futuna            3415\n",
       "Yemen                       11945\n",
       "Zambia                     333685\n",
       "Zimbabwe                   257893\n",
       "\n",
       "[229 rows x 1 columns]"
      ]
     },
     "execution_count": 37,
     "metadata": {},
     "output_type": "execute_result"
    }
   ],
   "source": [
    "cc.sum()"
   ]
  },
  {
   "cell_type": "code",
   "execution_count": 33,
   "id": "12601b42",
   "metadata": {},
   "outputs": [],
   "source": [
    "dd = df.groupby('date')[['Cases p/day']]"
   ]
  },
  {
   "cell_type": "code",
   "execution_count": 34,
   "id": "1b55afd3",
   "metadata": {},
   "outputs": [
    {
     "data": {
      "text/html": [
       "<div>\n",
       "<style scoped>\n",
       "    .dataframe tbody tr th:only-of-type {\n",
       "        vertical-align: middle;\n",
       "    }\n",
       "\n",
       "    .dataframe tbody tr th {\n",
       "        vertical-align: top;\n",
       "    }\n",
       "\n",
       "    .dataframe thead th {\n",
       "        text-align: right;\n",
       "    }\n",
       "</style>\n",
       "<table border=\"1\" class=\"dataframe\">\n",
       "  <thead>\n",
       "    <tr style=\"text-align: right;\">\n",
       "      <th></th>\n",
       "      <th>Cases p/day</th>\n",
       "    </tr>\n",
       "    <tr>\n",
       "      <th>date</th>\n",
       "      <th></th>\n",
       "    </tr>\n",
       "  </thead>\n",
       "  <tbody>\n",
       "    <tr>\n",
       "      <th>1/1/2021</th>\n",
       "      <td>536060</td>\n",
       "    </tr>\n",
       "    <tr>\n",
       "      <th>1/1/2022</th>\n",
       "      <td>1235010</td>\n",
       "    </tr>\n",
       "    <tr>\n",
       "      <th>1/10/2020</th>\n",
       "      <td>0</td>\n",
       "    </tr>\n",
       "    <tr>\n",
       "      <th>1/10/2021</th>\n",
       "      <td>598138</td>\n",
       "    </tr>\n",
       "    <tr>\n",
       "      <th>1/10/2022</th>\n",
       "      <td>3189718</td>\n",
       "    </tr>\n",
       "    <tr>\n",
       "      <th>...</th>\n",
       "      <td>...</td>\n",
       "    </tr>\n",
       "    <tr>\n",
       "      <th>9/8/2021</th>\n",
       "      <td>639772</td>\n",
       "    </tr>\n",
       "    <tr>\n",
       "      <th>9/8/2022</th>\n",
       "      <td>590149</td>\n",
       "    </tr>\n",
       "    <tr>\n",
       "      <th>9/9/2020</th>\n",
       "      <td>288057</td>\n",
       "    </tr>\n",
       "    <tr>\n",
       "      <th>9/9/2021</th>\n",
       "      <td>640492</td>\n",
       "    </tr>\n",
       "    <tr>\n",
       "      <th>9/9/2022</th>\n",
       "      <td>504721</td>\n",
       "    </tr>\n",
       "  </tbody>\n",
       "</table>\n",
       "<p>1055 rows × 1 columns</p>\n",
       "</div>"
      ],
      "text/plain": [
       "           Cases p/day\n",
       "date                  \n",
       "1/1/2021        536060\n",
       "1/1/2022       1235010\n",
       "1/10/2020            0\n",
       "1/10/2021       598138\n",
       "1/10/2022      3189718\n",
       "...                ...\n",
       "9/8/2021        639772\n",
       "9/8/2022        590149\n",
       "9/9/2020        288057\n",
       "9/9/2021        640492\n",
       "9/9/2022        504721\n",
       "\n",
       "[1055 rows x 1 columns]"
      ]
     },
     "execution_count": 34,
     "metadata": {},
     "output_type": "execute_result"
    }
   ],
   "source": [
    "dd.sum()"
   ]
  },
  {
   "cell_type": "code",
   "execution_count": 35,
   "id": "469ee281",
   "metadata": {},
   "outputs": [
    {
     "data": {
      "text/html": [
       "<div>\n",
       "<style scoped>\n",
       "    .dataframe tbody tr th:only-of-type {\n",
       "        vertical-align: middle;\n",
       "    }\n",
       "\n",
       "    .dataframe tbody tr th {\n",
       "        vertical-align: top;\n",
       "    }\n",
       "\n",
       "    .dataframe thead th {\n",
       "        text-align: right;\n",
       "    }\n",
       "</style>\n",
       "<table border=\"1\" class=\"dataframe\">\n",
       "  <thead>\n",
       "    <tr style=\"text-align: right;\">\n",
       "      <th></th>\n",
       "      <th>Cases p/day</th>\n",
       "    </tr>\n",
       "    <tr>\n",
       "      <th>date</th>\n",
       "      <th></th>\n",
       "    </tr>\n",
       "  </thead>\n",
       "  <tbody>\n",
       "    <tr>\n",
       "      <th>1/1/2021</th>\n",
       "      <td>2458.990826</td>\n",
       "    </tr>\n",
       "    <tr>\n",
       "      <th>1/1/2022</th>\n",
       "      <td>5538.161435</td>\n",
       "    </tr>\n",
       "    <tr>\n",
       "      <th>1/10/2020</th>\n",
       "      <td>0.000000</td>\n",
       "    </tr>\n",
       "    <tr>\n",
       "      <th>1/10/2021</th>\n",
       "      <td>2756.396313</td>\n",
       "    </tr>\n",
       "    <tr>\n",
       "      <th>1/10/2022</th>\n",
       "      <td>14303.668161</td>\n",
       "    </tr>\n",
       "    <tr>\n",
       "      <th>...</th>\n",
       "      <td>...</td>\n",
       "    </tr>\n",
       "    <tr>\n",
       "      <th>9/8/2021</th>\n",
       "      <td>2881.855856</td>\n",
       "    </tr>\n",
       "    <tr>\n",
       "      <th>9/8/2022</th>\n",
       "      <td>2770.652582</td>\n",
       "    </tr>\n",
       "    <tr>\n",
       "      <th>9/9/2020</th>\n",
       "      <td>1352.380282</td>\n",
       "    </tr>\n",
       "    <tr>\n",
       "      <th>9/9/2021</th>\n",
       "      <td>2885.099099</td>\n",
       "    </tr>\n",
       "    <tr>\n",
       "      <th>9/9/2022</th>\n",
       "      <td>2369.582160</td>\n",
       "    </tr>\n",
       "  </tbody>\n",
       "</table>\n",
       "<p>1055 rows × 1 columns</p>\n",
       "</div>"
      ],
      "text/plain": [
       "            Cases p/day\n",
       "date                   \n",
       "1/1/2021    2458.990826\n",
       "1/1/2022    5538.161435\n",
       "1/10/2020      0.000000\n",
       "1/10/2021   2756.396313\n",
       "1/10/2022  14303.668161\n",
       "...                 ...\n",
       "9/8/2021    2881.855856\n",
       "9/8/2022    2770.652582\n",
       "9/9/2020    1352.380282\n",
       "9/9/2021    2885.099099\n",
       "9/9/2022    2369.582160\n",
       "\n",
       "[1055 rows x 1 columns]"
      ]
     },
     "execution_count": 35,
     "metadata": {},
     "output_type": "execute_result"
    }
   ],
   "source": [
    "dd.mean()"
   ]
  },
  {
   "cell_type": "code",
   "execution_count": 39,
   "id": "2532cd26",
   "metadata": {},
   "outputs": [],
   "source": [
    "dc = df.groupby(['date','Country'])[['Cases p/day']]"
   ]
  },
  {
   "cell_type": "code",
   "execution_count": 40,
   "id": "9a343195",
   "metadata": {
    "scrolled": true
   },
   "outputs": [
    {
     "data": {
      "text/html": [
       "<div>\n",
       "<style scoped>\n",
       "    .dataframe tbody tr th:only-of-type {\n",
       "        vertical-align: middle;\n",
       "    }\n",
       "\n",
       "    .dataframe tbody tr th {\n",
       "        vertical-align: top;\n",
       "    }\n",
       "\n",
       "    .dataframe thead th {\n",
       "        text-align: right;\n",
       "    }\n",
       "</style>\n",
       "<table border=\"1\" class=\"dataframe\">\n",
       "  <thead>\n",
       "    <tr style=\"text-align: right;\">\n",
       "      <th></th>\n",
       "      <th></th>\n",
       "      <th>Cases p/day</th>\n",
       "    </tr>\n",
       "    <tr>\n",
       "      <th>date</th>\n",
       "      <th>Country</th>\n",
       "      <th></th>\n",
       "    </tr>\n",
       "  </thead>\n",
       "  <tbody>\n",
       "    <tr>\n",
       "      <th rowspan=\"5\" valign=\"top\">1/1/2021</th>\n",
       "      <th>Afghanistan</th>\n",
       "      <td>183</td>\n",
       "    </tr>\n",
       "    <tr>\n",
       "      <th>Albania</th>\n",
       "      <td>0</td>\n",
       "    </tr>\n",
       "    <tr>\n",
       "      <th>Algeria</th>\n",
       "      <td>287</td>\n",
       "    </tr>\n",
       "    <tr>\n",
       "      <th>Andorra</th>\n",
       "      <td>68</td>\n",
       "    </tr>\n",
       "    <tr>\n",
       "      <th>Angola</th>\n",
       "      <td>15</td>\n",
       "    </tr>\n",
       "    <tr>\n",
       "      <th>...</th>\n",
       "      <th>...</th>\n",
       "      <td>...</td>\n",
       "    </tr>\n",
       "    <tr>\n",
       "      <th rowspan=\"5\" valign=\"top\">9/9/2022</th>\n",
       "      <th>Virgin Islands, U.S.</th>\n",
       "      <td>0</td>\n",
       "    </tr>\n",
       "    <tr>\n",
       "      <th>Wallis and Futuna</th>\n",
       "      <td>0</td>\n",
       "    </tr>\n",
       "    <tr>\n",
       "      <th>Yemen</th>\n",
       "      <td>0</td>\n",
       "    </tr>\n",
       "    <tr>\n",
       "      <th>Zambia</th>\n",
       "      <td>24</td>\n",
       "    </tr>\n",
       "    <tr>\n",
       "      <th>Zimbabwe</th>\n",
       "      <td>25</td>\n",
       "    </tr>\n",
       "  </tbody>\n",
       "</table>\n",
       "<p>214581 rows × 1 columns</p>\n",
       "</div>"
      ],
      "text/plain": [
       "                               Cases p/day\n",
       "date     Country                          \n",
       "1/1/2021 Afghanistan                   183\n",
       "         Albania                         0\n",
       "         Algeria                       287\n",
       "         Andorra                        68\n",
       "         Angola                         15\n",
       "...                                    ...\n",
       "9/9/2022 Virgin Islands, U.S.            0\n",
       "         Wallis and Futuna               0\n",
       "         Yemen                           0\n",
       "         Zambia                         24\n",
       "         Zimbabwe                       25\n",
       "\n",
       "[214581 rows x 1 columns]"
      ]
     },
     "execution_count": 40,
     "metadata": {},
     "output_type": "execute_result"
    }
   ],
   "source": [
    "dc.sum()"
   ]
  },
  {
   "cell_type": "code",
   "execution_count": 41,
   "id": "11a655b1",
   "metadata": {},
   "outputs": [
    {
     "data": {
      "text/html": [
       "<div>\n",
       "<style scoped>\n",
       "    .dataframe tbody tr th:only-of-type {\n",
       "        vertical-align: middle;\n",
       "    }\n",
       "\n",
       "    .dataframe tbody tr th {\n",
       "        vertical-align: top;\n",
       "    }\n",
       "\n",
       "    .dataframe thead th {\n",
       "        text-align: right;\n",
       "    }\n",
       "</style>\n",
       "<table border=\"1\" class=\"dataframe\">\n",
       "  <thead>\n",
       "    <tr style=\"text-align: right;\">\n",
       "      <th></th>\n",
       "      <th>Cases p/day</th>\n",
       "    </tr>\n",
       "    <tr>\n",
       "      <th>Country</th>\n",
       "      <th></th>\n",
       "    </tr>\n",
       "  </thead>\n",
       "  <tbody>\n",
       "    <tr>\n",
       "      <th>Afghanistan</th>\n",
       "      <td>3243</td>\n",
       "    </tr>\n",
       "    <tr>\n",
       "      <th>Albania</th>\n",
       "      <td>4789</td>\n",
       "    </tr>\n",
       "    <tr>\n",
       "      <th>Algeria</th>\n",
       "      <td>2521</td>\n",
       "    </tr>\n",
       "    <tr>\n",
       "      <th>American Samoa</th>\n",
       "      <td>1201</td>\n",
       "    </tr>\n",
       "    <tr>\n",
       "      <th>Andorra</th>\n",
       "      <td>2313</td>\n",
       "    </tr>\n",
       "    <tr>\n",
       "      <th>...</th>\n",
       "      <td>...</td>\n",
       "    </tr>\n",
       "    <tr>\n",
       "      <th>Virgin Islands, U.S.</th>\n",
       "      <td>1235</td>\n",
       "    </tr>\n",
       "    <tr>\n",
       "      <th>Wallis and Futuna</th>\n",
       "      <td>2654</td>\n",
       "    </tr>\n",
       "    <tr>\n",
       "      <th>Yemen</th>\n",
       "      <td>287</td>\n",
       "    </tr>\n",
       "    <tr>\n",
       "      <th>Zambia</th>\n",
       "      <td>5555</td>\n",
       "    </tr>\n",
       "    <tr>\n",
       "      <th>Zimbabwe</th>\n",
       "      <td>9185</td>\n",
       "    </tr>\n",
       "  </tbody>\n",
       "</table>\n",
       "<p>229 rows × 1 columns</p>\n",
       "</div>"
      ],
      "text/plain": [
       "                      Cases p/day\n",
       "Country                          \n",
       "Afghanistan                  3243\n",
       "Albania                      4789\n",
       "Algeria                      2521\n",
       "American Samoa               1201\n",
       "Andorra                      2313\n",
       "...                           ...\n",
       "Virgin Islands, U.S.         1235\n",
       "Wallis and Futuna            2654\n",
       "Yemen                         287\n",
       "Zambia                       5555\n",
       "Zimbabwe                     9185\n",
       "\n",
       "[229 rows x 1 columns]"
      ]
     },
     "execution_count": 41,
     "metadata": {},
     "output_type": "execute_result"
    }
   ],
   "source": [
    "cc.max()"
   ]
  },
  {
   "cell_type": "code",
   "execution_count": 42,
   "id": "b00a525c",
   "metadata": {},
   "outputs": [
    {
     "data": {
      "text/html": [
       "<div>\n",
       "<style scoped>\n",
       "    .dataframe tbody tr th:only-of-type {\n",
       "        vertical-align: middle;\n",
       "    }\n",
       "\n",
       "    .dataframe tbody tr th {\n",
       "        vertical-align: top;\n",
       "    }\n",
       "\n",
       "    .dataframe thead th {\n",
       "        text-align: right;\n",
       "    }\n",
       "</style>\n",
       "<table border=\"1\" class=\"dataframe\">\n",
       "  <thead>\n",
       "    <tr style=\"text-align: right;\">\n",
       "      <th></th>\n",
       "      <th></th>\n",
       "      <th>Cases p/day</th>\n",
       "    </tr>\n",
       "    <tr>\n",
       "      <th>date</th>\n",
       "      <th>Country</th>\n",
       "      <th></th>\n",
       "    </tr>\n",
       "  </thead>\n",
       "  <tbody>\n",
       "    <tr>\n",
       "      <th rowspan=\"5\" valign=\"top\">1/1/2021</th>\n",
       "      <th>Afghanistan</th>\n",
       "      <td>183</td>\n",
       "    </tr>\n",
       "    <tr>\n",
       "      <th>Albania</th>\n",
       "      <td>0</td>\n",
       "    </tr>\n",
       "    <tr>\n",
       "      <th>Algeria</th>\n",
       "      <td>287</td>\n",
       "    </tr>\n",
       "    <tr>\n",
       "      <th>Andorra</th>\n",
       "      <td>68</td>\n",
       "    </tr>\n",
       "    <tr>\n",
       "      <th>Angola</th>\n",
       "      <td>15</td>\n",
       "    </tr>\n",
       "    <tr>\n",
       "      <th>...</th>\n",
       "      <th>...</th>\n",
       "      <td>...</td>\n",
       "    </tr>\n",
       "    <tr>\n",
       "      <th rowspan=\"5\" valign=\"top\">9/9/2022</th>\n",
       "      <th>Virgin Islands, U.S.</th>\n",
       "      <td>0</td>\n",
       "    </tr>\n",
       "    <tr>\n",
       "      <th>Wallis and Futuna</th>\n",
       "      <td>0</td>\n",
       "    </tr>\n",
       "    <tr>\n",
       "      <th>Yemen</th>\n",
       "      <td>0</td>\n",
       "    </tr>\n",
       "    <tr>\n",
       "      <th>Zambia</th>\n",
       "      <td>24</td>\n",
       "    </tr>\n",
       "    <tr>\n",
       "      <th>Zimbabwe</th>\n",
       "      <td>25</td>\n",
       "    </tr>\n",
       "  </tbody>\n",
       "</table>\n",
       "<p>214581 rows × 1 columns</p>\n",
       "</div>"
      ],
      "text/plain": [
       "                               Cases p/day\n",
       "date     Country                          \n",
       "1/1/2021 Afghanistan                   183\n",
       "         Albania                         0\n",
       "         Algeria                       287\n",
       "         Andorra                        68\n",
       "         Angola                         15\n",
       "...                                    ...\n",
       "9/9/2022 Virgin Islands, U.S.            0\n",
       "         Wallis and Futuna               0\n",
       "         Yemen                           0\n",
       "         Zambia                         24\n",
       "         Zimbabwe                       25\n",
       "\n",
       "[214581 rows x 1 columns]"
      ]
     },
     "execution_count": 42,
     "metadata": {},
     "output_type": "execute_result"
    }
   ],
   "source": [
    "dc.max()"
   ]
  },
  {
   "cell_type": "markdown",
   "id": "192e70f5",
   "metadata": {},
   "source": [
    "## US RETAIL SALES 2019 & 2020"
   ]
  },
  {
   "cell_type": "code",
   "execution_count": 16,
   "id": "b2b50180",
   "metadata": {},
   "outputs": [],
   "source": [
    "import numpy as np\n",
    "import pandas as pd\n",
    "import scipy.stats as st\n",
    "%matplotlib inline"
   ]
  },
  {
   "cell_type": "code",
   "execution_count": 6,
   "id": "dc818b2a",
   "metadata": {},
   "outputs": [],
   "source": [
    "df2 = pd.read_csv('Estimated Sales US Retailers 2019 2020.csv')"
   ]
  },
  {
   "cell_type": "markdown",
   "id": "5b6170cf",
   "metadata": {},
   "source": [
    "### Data Description"
   ]
  },
  {
   "cell_type": "code",
   "execution_count": 7,
   "id": "8edeed9f",
   "metadata": {},
   "outputs": [
    {
     "data": {
      "text/plain": [
       "(12, 4)"
      ]
     },
     "execution_count": 7,
     "metadata": {},
     "output_type": "execute_result"
    }
   ],
   "source": [
    "df2.shape"
   ]
  },
  {
   "cell_type": "code",
   "execution_count": 13,
   "id": "fb317aaa",
   "metadata": {},
   "outputs": [
    {
     "data": {
      "text/html": [
       "<div>\n",
       "<style scoped>\n",
       "    .dataframe tbody tr th:only-of-type {\n",
       "        vertical-align: middle;\n",
       "    }\n",
       "\n",
       "    .dataframe tbody tr th {\n",
       "        vertical-align: top;\n",
       "    }\n",
       "\n",
       "    .dataframe thead th {\n",
       "        text-align: right;\n",
       "    }\n",
       "</style>\n",
       "<table border=\"1\" class=\"dataframe\">\n",
       "  <thead>\n",
       "    <tr style=\"text-align: right;\">\n",
       "      <th></th>\n",
       "      <th>2019 Sales</th>\n",
       "      <th>2020 Sales</th>\n",
       "    </tr>\n",
       "  </thead>\n",
       "  <tbody>\n",
       "    <tr>\n",
       "      <th>count</th>\n",
       "      <td>12.000000</td>\n",
       "      <td>12.000000</td>\n",
       "    </tr>\n",
       "    <tr>\n",
       "      <th>mean</th>\n",
       "      <td>450.150000</td>\n",
       "      <td>464.208333</td>\n",
       "    </tr>\n",
       "    <tr>\n",
       "      <th>std</th>\n",
       "      <td>359.021074</td>\n",
       "      <td>387.887168</td>\n",
       "    </tr>\n",
       "    <tr>\n",
       "      <th>min</th>\n",
       "      <td>79.800000</td>\n",
       "      <td>76.000000</td>\n",
       "    </tr>\n",
       "    <tr>\n",
       "      <th>25%</th>\n",
       "      <td>127.900000</td>\n",
       "      <td>123.275000</td>\n",
       "    </tr>\n",
       "    <tr>\n",
       "      <th>50%</th>\n",
       "      <td>358.650000</td>\n",
       "      <td>386.750000</td>\n",
       "    </tr>\n",
       "    <tr>\n",
       "      <th>75%</th>\n",
       "      <td>725.025000</td>\n",
       "      <td>760.500000</td>\n",
       "    </tr>\n",
       "    <tr>\n",
       "      <th>max</th>\n",
       "      <td>1237.700000</td>\n",
       "      <td>1208.300000</td>\n",
       "    </tr>\n",
       "  </tbody>\n",
       "</table>\n",
       "</div>"
      ],
      "text/plain": [
       "        2019 Sales   2020 Sales\n",
       "count    12.000000    12.000000\n",
       "mean    450.150000   464.208333\n",
       "std     359.021074   387.887168\n",
       "min      79.800000    76.000000\n",
       "25%     127.900000   123.275000\n",
       "50%     358.650000   386.750000\n",
       "75%     725.025000   760.500000\n",
       "max    1237.700000  1208.300000"
      ]
     },
     "execution_count": 13,
     "metadata": {},
     "output_type": "execute_result"
    }
   ],
   "source": [
    "df2.describe()"
   ]
  },
  {
   "cell_type": "code",
   "execution_count": 14,
   "id": "9c15f2c6",
   "metadata": {},
   "outputs": [
    {
     "name": "stdout",
     "output_type": "stream",
     "text": [
      "<class 'pandas.core.frame.DataFrame'>\n",
      "RangeIndex: 12 entries, 0 to 11\n",
      "Data columns (total 4 columns):\n",
      " #   Column          Non-Null Count  Dtype  \n",
      "---  ------          --------------  -----  \n",
      " 0   Reatail Sector  12 non-null     object \n",
      " 1   2019 Sales      12 non-null     float64\n",
      " 2   2020 Sales      12 non-null     float64\n",
      " 3   % Change        12 non-null     object \n",
      "dtypes: float64(2), object(2)\n",
      "memory usage: 512.0+ bytes\n"
     ]
    }
   ],
   "source": [
    "df2.info()"
   ]
  },
  {
   "cell_type": "markdown",
   "id": "382831fe",
   "metadata": {},
   "source": [
    "### Statistical Analysis"
   ]
  },
  {
   "cell_type": "code",
   "execution_count": 20,
   "id": "ae7bf647",
   "metadata": {},
   "outputs": [
    {
     "data": {
      "text/plain": [
       "<AxesSubplot:>"
      ]
     },
     "execution_count": 20,
     "metadata": {},
     "output_type": "execute_result"
    },
    {
     "data": {
      "image/png": "[encoded data removed]",
      "text/plain": [
       "<Figure size 640x480 with 1 Axes>"
      ]
     },
     "metadata": {},
     "output_type": "display_data"
    }
   ],
   "source": [
    "df2.plot()"
   ]
  },
  {
   "cell_type": "code",
   "execution_count": 24,
   "id": "840720da",
   "metadata": {},
   "outputs": [
    {
     "data": {
      "text/plain": [
       "Reatail Sector    Sporting Goods, Hobby, Musical Instrument, and...\n",
       "2019 Sales                                                   1237.7\n",
       "2020 Sales                                                   1208.3\n",
       "% Change                                                       9.7%\n",
       "dtype: object"
      ]
     },
     "execution_count": 24,
     "metadata": {},
     "output_type": "execute_result"
    }
   ],
   "source": [
    "df2.max()"
   ]
  },
  {
   "cell_type": "code",
   "execution_count": 22,
   "id": "34688abf",
   "metadata": {},
   "outputs": [
    {
     "data": {
      "text/html": [
       "<div>\n",
       "<style scoped>\n",
       "    .dataframe tbody tr th:only-of-type {\n",
       "        vertical-align: middle;\n",
       "    }\n",
       "\n",
       "    .dataframe tbody tr th {\n",
       "        vertical-align: top;\n",
       "    }\n",
       "\n",
       "    .dataframe thead th {\n",
       "        text-align: right;\n",
       "    }\n",
       "</style>\n",
       "<table border=\"1\" class=\"dataframe\">\n",
       "  <thead>\n",
       "    <tr style=\"text-align: right;\">\n",
       "      <th></th>\n",
       "      <th>2019 Sales</th>\n",
       "      <th>2020 Sales</th>\n",
       "    </tr>\n",
       "  </thead>\n",
       "  <tbody>\n",
       "    <tr>\n",
       "      <th>2019 Sales</th>\n",
       "      <td>1.000000</td>\n",
       "      <td>0.979855</td>\n",
       "    </tr>\n",
       "    <tr>\n",
       "      <th>2020 Sales</th>\n",
       "      <td>0.979855</td>\n",
       "      <td>1.000000</td>\n",
       "    </tr>\n",
       "  </tbody>\n",
       "</table>\n",
       "</div>"
      ],
      "text/plain": [
       "            2019 Sales  2020 Sales\n",
       "2019 Sales    1.000000    0.979855\n",
       "2020 Sales    0.979855    1.000000"
      ]
     },
     "execution_count": 22,
     "metadata": {},
     "output_type": "execute_result"
    }
   ],
   "source": [
    "df2.corr()"
   ]
  },
  {
   "cell_type": "code",
   "execution_count": 25,
   "id": "59e9c50f",
   "metadata": {},
   "outputs": [],
   "source": [
    "sector_sales = df2.groupby('Reatail Sector')[['% Change']]"
   ]
  },
  {
   "cell_type": "code",
   "execution_count": 33,
   "id": "d793742f",
   "metadata": {},
   "outputs": [
    {
     "data": {
      "text/html": [
       "<div>\n",
       "<style scoped>\n",
       "    .dataframe tbody tr th:only-of-type {\n",
       "        vertical-align: middle;\n",
       "    }\n",
       "\n",
       "    .dataframe tbody tr th {\n",
       "        vertical-align: top;\n",
       "    }\n",
       "\n",
       "    .dataframe thead th {\n",
       "        text-align: right;\n",
       "    }\n",
       "</style>\n",
       "<table border=\"1\" class=\"dataframe\">\n",
       "  <thead>\n",
       "    <tr style=\"text-align: right;\">\n",
       "      <th></th>\n",
       "      <th>% Change</th>\n",
       "    </tr>\n",
       "    <tr>\n",
       "      <th>Reatail Sector</th>\n",
       "      <th></th>\n",
       "    </tr>\n",
       "  </thead>\n",
       "  <tbody>\n",
       "    <tr>\n",
       "      <th>Building Materials and Garden Equipment and Suplies Dealers</th>\n",
       "      <td>13.1%</td>\n",
       "    </tr>\n",
       "    <tr>\n",
       "      <th>Clothing and Clothing Accessories Stores</th>\n",
       "      <td>-25.3%</td>\n",
       "    </tr>\n",
       "    <tr>\n",
       "      <th>Electronics and Apliance Stores</th>\n",
       "      <td>-16.4%</td>\n",
       "    </tr>\n",
       "    <tr>\n",
       "      <th>Food and Beverage Stores</th>\n",
       "      <td>9.7%</td>\n",
       "    </tr>\n",
       "    <tr>\n",
       "      <th>Furniture and Home Furnishings Stores</th>\n",
       "      <td>-6.4%</td>\n",
       "    </tr>\n",
       "    <tr>\n",
       "      <th>Gasoline Stations</th>\n",
       "      <td>-16.6%</td>\n",
       "    </tr>\n",
       "    <tr>\n",
       "      <th>General Merchandise Stores</th>\n",
       "      <td>2.0%</td>\n",
       "    </tr>\n",
       "    <tr>\n",
       "      <th>Health and Pesonal Care Stores</th>\n",
       "      <td>2.1%</td>\n",
       "    </tr>\n",
       "    <tr>\n",
       "      <th>Miscellaneous Store Ratailers</th>\n",
       "      <td>-2.8%</td>\n",
       "    </tr>\n",
       "    <tr>\n",
       "      <th>Motor Vehicle and Parts Dealers</th>\n",
       "      <td>-2.4%</td>\n",
       "    </tr>\n",
       "    <tr>\n",
       "      <th>Nonstore Ratailers</th>\n",
       "      <td>30.3%</td>\n",
       "    </tr>\n",
       "    <tr>\n",
       "      <th>Sporting Goods, Hobby, Musical Instrument, and Books Stores</th>\n",
       "      <td>5.8%</td>\n",
       "    </tr>\n",
       "  </tbody>\n",
       "</table>\n",
       "</div>"
      ],
      "text/plain": [
       "                                                   % Change\n",
       "Reatail Sector                                             \n",
       "Building Materials and Garden Equipment and Sup...    13.1%\n",
       "Clothing and Clothing Accessories Stores             -25.3%\n",
       "Electronics and Apliance Stores                      -16.4%\n",
       "Food and Beverage Stores                               9.7%\n",
       "Furniture and Home Furnishings Stores                 -6.4%\n",
       "Gasoline Stations                                    -16.6%\n",
       "General Merchandise Stores                             2.0%\n",
       "Health and Pesonal Care Stores                         2.1%\n",
       "Miscellaneous Store Ratailers                         -2.8%\n",
       "Motor Vehicle and Parts Dealers                       -2.4%\n",
       "Nonstore Ratailers                                    30.3%\n",
       "Sporting Goods, Hobby, Musical Instrument, and ...     5.8%"
      ]
     },
     "execution_count": 33,
     "metadata": {},
     "output_type": "execute_result"
    }
   ],
   "source": [
    "sector_sales.sum()"
   ]
  },
  {
   "cell_type": "code",
   "execution_count": 52,
   "id": "850a88f1",
   "metadata": {},
   "outputs": [
    {
     "data": {
      "text/plain": [
       "<AxesSubplot:ylabel='Frequency'>"
      ]
     },
     "execution_count": 52,
     "metadata": {},
     "output_type": "execute_result"
    },
    {
     "data": {
      "image/png": "[encoded data removed]",
      "text/plain": [
       "<Figure size 640x480 with 1 Axes>"
      ]
     },
     "metadata": {},
     "output_type": "display_data"
    }
   ],
   "source": [
    "df2.plot.hist()"
   ]
  },
  {
   "cell_type": "code",
   "execution_count": null,
   "id": "6c433062",
   "metadata": {},
   "outputs": [],
   "source": []
  }
 ],
 "metadata": {
  "kernelspec": {
   "display_name": "Python 3 (ipykernel)",
   "language": "python",
   "name": "python3"
  },
  "language_info": {
   "codemirror_mode": {
    "name": "ipython",
    "version": 3
   },
   "file_extension": ".py",
   "mimetype": "text/x-python",
   "name": "python",
   "nbconvert_exporter": "python",
   "pygments_lexer": "ipython3",
   "version": "3.9.13"
  }
 },
 "nbformat": 4,
 "nbformat_minor": 5
}
